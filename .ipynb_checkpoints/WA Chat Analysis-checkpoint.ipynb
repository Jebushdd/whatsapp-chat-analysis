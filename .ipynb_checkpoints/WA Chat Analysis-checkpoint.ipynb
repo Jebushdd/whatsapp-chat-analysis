{
 "cells": [
  {
   "cell_type": "markdown",
   "id": "2ded38f7",
   "metadata": {},
   "source": [
    "# Análisis de mensajes en archivo de texto"
   ]
  },
  {
   "cell_type": "markdown",
   "id": "459511e5",
   "metadata": {},
   "source": [
    "## Importamos las librerías a usar en el proyecto"
   ]
  },
  {
   "cell_type": "code",
   "execution_count": 292,
   "id": "7c0bb45d",
   "metadata": {},
   "outputs": [],
   "source": [
    "import re\n",
    "import pandas as pd\n",
    "import numpy as np\n",
    "import emoji\n",
    "from collections import Counter\n",
    "import matplotlib.pyplot as plt\n",
    "import seaborn as sns\n",
    "from wordcloud import WordCloud, STOPWORDS, ImageColorGenerator"
   ]
  },
  {
   "cell_type": "markdown",
   "id": "e82d7faf",
   "metadata": {},
   "source": [
    "## Transformar texto a dataframe"
   ]
  },
  {
   "cell_type": "markdown",
   "id": "deb99faf",
   "metadata": {},
   "source": [
    "### Creamos funciones para procesar el texto"
   ]
  },
  {
   "cell_type": "code",
   "execution_count": 293,
   "id": "9b9a6312",
   "metadata": {},
   "outputs": [],
   "source": [
    "def date_time(s):\n",
    "    \"\"\"Buscar fecha y hora en formato d/m/aaaa hh:mm\"\"\"\n",
    "    pattern =  '^([0-9]+)/([0-9]+)/([0-9]+) [0-9]+:[0-9]+ -'    # El patrón corresponde a \"dd/mm/aaaa hh:mm\"\n",
    "    result = re.match(pattern, s)                                # Busca un match entre el patrón y el string\n",
    "    if result:                                                   # Si se da el match entonces la función devolverá un True,\n",
    "        return True                                              # lo usaremos luego como un filtro para continuar el proceso\n",
    "    return False                                                 # de trasnformación de texto a dataframe"
   ]
  },
  {
   "cell_type": "code",
   "execution_count": 294,
   "id": "ce4bd57f",
   "metadata": {},
   "outputs": [],
   "source": [
    "def find_author(s):\n",
    "    \"\"\"Buscar remitente del mensaje\"\"\"\n",
    "    s = s.split(\":\",1)              # Se divide el string a partir del primer \": \"\n",
    "    if len(s)==2:                   # Comprueba si el resultado de la segmentación arroja dos partes [\"parte 1\": \"parte 2\"]\n",
    "        return True                 # También se usa como un filtro en el proceso de transformación de texto a dataframe\n",
    "    else:\n",
    "        return False"
   ]
  },
  {
   "cell_type": "code",
   "execution_count": 295,
   "id": "d266cd8f",
   "metadata": {},
   "outputs": [],
   "source": [
    "def getDataPoint(line):\n",
    "    \"\"\"Obtener los elementos que conforman un registro (Fecha, Hora, Remitente, Mensaje)\"\"\"\n",
    "    \n",
    "    splitline = line.split(' - ',1)             # Divide el string a partir del primer \" - \"\n",
    "    dateTime = splitline[0]                     # Con la primer parte crea la variable de fecha y hora\n",
    "    date, time = dateTime.split(\" \")            # Divide al string de fecha y hora según \" \" y crea una variable para cada parte\n",
    "    message = \" \".join(splitline[1:])           # Une todas las partes del string inicial a partir de la segunda y crea la \n",
    "                                                # variable del mensaje\n",
    "    if find_author(message):                    # Si la función find_author() es verdadera entonces\n",
    "        splitmessage = message.split(\": \",1)    # toma la variable de mensaje y divide ese string según \": \"\n",
    "        author = splitmessage[0]                # Con la primer parte crea la variable del remitente\n",
    "        message = \" \".join(splitmessage[1:])    # Une desde la segunda parte en adelante usando \" \" y reemplaza\n",
    "                                                # la variable inicial del mensaje\n",
    "    else:                                       # Si la función find_author() no es verdadera entonces\n",
    "        author = None                           # Crea una variable de autor None\n",
    "    return date, time, author, message          # Devuelve las variables de fecha, hora, autor y mensaje"
   ]
  },
  {
   "cell_type": "markdown",
   "id": "7c864c08",
   "metadata": {},
   "source": [
    "### Importar archivo y procesar datos para usar con pandas"
   ]
  },
  {
   "cell_type": "code",
   "execution_count": 296,
   "id": "5dc6ed8b",
   "metadata": {},
   "outputs": [],
   "source": [
    "conversation = 'chat2.txt'                                                  # Creamos una variable con la ruta del archivo de texto\n",
    "\n",
    "data = []                                                                  # Creamos una lista vacía donde se agregarán listas de variables fecha, tiempo, autor\n",
    "\n",
    "with open(conversation, encoding='utf-8') as chat:                         # Abrimos el archivo y lo nombramos chat\n",
    "    chat.readline()                                                        # Leer la primer línea del archivo (así ya no la vuelve a leer en el proceso de transformación)\n",
    "    messageBuffer = []                                                     # Creamos una lista vacía donde se unirán las variables antes de guardarlas\n",
    "    date, time, author = None, None, None                                  # creamos las variables de fecha, hora y autor con valor None para cada una\n",
    "    \n",
    "    while True:                                                            # Iterar cada vez que se arroje un True\n",
    "        line = chat.readline()                                             # Creamos una variable para leer una línea de chat a la vez\n",
    "        if not line:                                                       # Si la línea está vacía entonces\n",
    "            break                                                          # romper el bucle y pasar a la siguiente línea\n",
    "        \n",
    "        # Cuando la línea no está vacía\n",
    "        line = line.strip()                                                # Eliminar espacios vacíos al incio y final de la línea\n",
    "        if date_time(line):                                                # Si la función date_time() arroja True entonces\n",
    "            if len(messageBuffer) > 0:                                     # Si la variable messageBuffer tiene uno o más elementos entonces\n",
    "                data.append([date, time, author, ' '.join(messageBuffer)]) # Agregar a la variable data una nueva lista con los valores de las variables de fecha, tiempo y autor separados por un \" \"\n",
    "\n",
    "            else:\n",
    "                messageBuffer.clear()                                          # Si la variable messageBuffer está vacía, limpiar la variable messageBuffer\n",
    "                date, time, author, message = getDataPoint(line)               # A las variables fecha, tiempo, autor y mensaje asignarle los valores que arroja la función getDataPoint()\n",
    "                messageBuffer.append(message)                                  # A la variable messageBuffer agregarle la variable del mensaje\n",
    "        else:                                                              # Si la función date_time() no arroja True entonces\n",
    "            messageBuffer.append(line)                                     # A la variable messageBuffer agregarle el valor de la variable de línea"
   ]
  },
  {
   "cell_type": "markdown",
   "id": "bd65781c",
   "metadata": {},
   "source": [
    "### Crear dataframe"
   ]
  },
  {
   "cell_type": "code",
   "execution_count": 300,
   "id": "81c06196",
   "metadata": {},
   "outputs": [
    {
     "data": {
      "text/html": [
       "<div>\n",
       "<style scoped>\n",
       "    .dataframe tbody tr th:only-of-type {\n",
       "        vertical-align: middle;\n",
       "    }\n",
       "\n",
       "    .dataframe tbody tr th {\n",
       "        vertical-align: top;\n",
       "    }\n",
       "\n",
       "    .dataframe thead th {\n",
       "        text-align: right;\n",
       "    }\n",
       "</style>\n",
       "<table border=\"1\" class=\"dataframe\">\n",
       "  <thead>\n",
       "    <tr style=\"text-align: right;\">\n",
       "      <th></th>\n",
       "      <th>Date</th>\n",
       "      <th>Time</th>\n",
       "      <th>Author</th>\n",
       "      <th>Message</th>\n",
       "    </tr>\n",
       "  </thead>\n",
       "  <tbody>\n",
       "    <tr>\n",
       "      <th>0</th>\n",
       "      <td>2019-09-06</td>\n",
       "      <td>11:06</td>\n",
       "      <td>Julieta Lara AIESEC Salta</td>\n",
       "      <td>Si mi nombre es Julieta Belén Lara</td>\n",
       "    </tr>\n",
       "  </tbody>\n",
       "</table>\n",
       "</div>"
      ],
      "text/plain": [
       "        Date   Time                     Author  \\\n",
       "0 2019-09-06  11:06  Julieta Lara AIESEC Salta   \n",
       "\n",
       "                              Message  \n",
       "0  Si mi nombre es Julieta Belén Lara  "
      ]
     },
     "execution_count": 300,
     "metadata": {},
     "output_type": "execute_result"
    }
   ],
   "source": [
    "df = pd.DataFrame(data, columns=['Date', 'Time', 'Author', 'Message'])\n",
    "df['Date'] = pd.to_datetime(df['Date'], format = \"%d/%m/%Y\")\n",
    "df"
   ]
  },
  {
   "cell_type": "code",
   "execution_count": 298,
   "id": "a0164598",
   "metadata": {
    "scrolled": true
   },
   "outputs": [
    {
     "data": {
      "text/plain": [
       "[['6/9/2019',\n",
       "  '11:06',\n",
       "  'Julieta Lara AIESEC Salta',\n",
       "  'Si mi nombre es Julieta Belén Lara']]"
      ]
     },
     "execution_count": 298,
     "metadata": {},
     "output_type": "execute_result"
    }
   ],
   "source": [
    "data"
   ]
  },
  {
   "cell_type": "code",
   "execution_count": 299,
   "id": "e666ba7f",
   "metadata": {},
   "outputs": [
    {
     "data": {
      "text/plain": [
       "'Si mi nombre es Julieta Belén Lara\\n'"
      ]
     },
     "execution_count": 299,
     "metadata": {},
     "output_type": "execute_result"
    }
   ],
   "source": [
    "chat = open(conversation, encoding='utf-8')\n",
    "chat.readline()\n",
    "getDataPoint(chat.readline())[3]"
   ]
  }
 ],
 "metadata": {
  "kernelspec": {
   "display_name": "Python 3 (ipykernel)",
   "language": "python",
   "name": "python3"
  },
  "language_info": {
   "codemirror_mode": {
    "name": "ipython",
    "version": 3
   },
   "file_extension": ".py",
   "mimetype": "text/x-python",
   "name": "python",
   "nbconvert_exporter": "python",
   "pygments_lexer": "ipython3",
   "version": "3.10.5"
  }
 },
 "nbformat": 4,
 "nbformat_minor": 5
}
